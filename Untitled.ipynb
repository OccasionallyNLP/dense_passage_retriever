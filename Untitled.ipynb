{
 "cells": [
  {
   "cell_type": "code",
   "execution_count": 1,
   "id": "14e03020-49c2-431d-92be-8731be524770",
   "metadata": {},
   "outputs": [],
   "source": [
    "import json"
   ]
  },
  {
   "cell_type": "code",
   "execution_count": 2,
   "id": "1d399226-ef37-4303-8fe0-04fd41b160f1",
   "metadata": {},
   "outputs": [],
   "source": [
    "wiki = json.load(open('./data/wiki.json'))"
   ]
  },
  {
   "cell_type": "code",
   "execution_count": 4,
   "id": "5ff5448f-4c1b-4bb6-8e5c-1229e89d0482",
   "metadata": {},
   "outputs": [
    {
     "data": {
      "text/plain": [
       "{'title': '파우스트 서곡',\n",
       " 'context': '지휘로 파리 음악원 관현악단이 연주하는 베토벤의 교향곡 9번을 듣고 깊은 감명을 받았는데, 이것이 이듬해 1월에 파우스트의 서곡으로 쓰여진 이 작품에 조금이라도 영향을 끼쳤으리라는 것은 의심할 여지가 없다. 여기의 라단조 조성의 경우에도 그의 전기에 적혀 있는 것처럼 단순한 정신적 피로나 실의가 반영된 것이 아니라 베토벤의 합창교향곡 조성의 영향을 받은 것을 볼'}"
      ]
     },
     "execution_count": 4,
     "metadata": {},
     "output_type": "execute_result"
    }
   ],
   "source": [
    "wiki['파우스트 서곡_1']"
   ]
  },
  {
   "cell_type": "code",
   "execution_count": 5,
   "id": "dd103a06-a782-4065-89ec-6219684d2a0d",
   "metadata": {},
   "outputs": [],
   "source": [
    "a = list(range(15))"
   ]
  },
  {
   "cell_type": "code",
   "execution_count": 8,
   "id": "e53c3744-9613-4b86-9b13-336412da4d05",
   "metadata": {},
   "outputs": [
    {
     "name": "stdout",
     "output_type": "stream",
     "text": [
      "[0, 8]\n",
      "[1, 9]\n",
      "[2, 10]\n",
      "[3, 11]\n",
      "[4, 12]\n",
      "[5, 13]\n",
      "[6, 14]\n",
      "[7]\n"
     ]
    }
   ],
   "source": [
    "for i in range(8):\n",
    "    print(a[i:16:8])"
   ]
  },
  {
   "cell_type": "code",
   "execution_count": 10,
   "id": "4441d7aa-bc83-49f2-86b5-026904304706",
   "metadata": {},
   "outputs": [
    {
     "data": {
      "text/plain": [
       "[0, 2, 4, 6, 8, 10, 12, 14]"
      ]
     },
     "execution_count": 10,
     "metadata": {},
     "output_type": "execute_result"
    }
   ],
   "source": [
    "start_idx = num_samples * args.local_rank\n",
    "end_idx = start_idx+num_samples\n",
    "a[start_idx:end_idx]"
   ]
  },
  {
   "cell_type": "code",
   "execution_count": 7,
   "id": "18b19d98-aa42-445b-b68f-aea785fdfb2f",
   "metadata": {},
   "outputs": [
    {
     "data": {
      "text/plain": [
       "[1, 9]"
      ]
     },
     "execution_count": 7,
     "metadata": {},
     "output_type": "execute_result"
    }
   ],
   "source": [
    "a[1:16:8]"
   ]
  }
 ],
 "metadata": {
  "kernelspec": {
   "display_name": "Python 3 (ipykernel)",
   "language": "python",
   "name": "python3"
  },
  "language_info": {
   "codemirror_mode": {
    "name": "ipython",
    "version": 3
   },
   "file_extension": ".py",
   "mimetype": "text/x-python",
   "name": "python",
   "nbconvert_exporter": "python",
   "pygments_lexer": "ipython3",
   "version": "3.9.7"
  }
 },
 "nbformat": 4,
 "nbformat_minor": 5
}
