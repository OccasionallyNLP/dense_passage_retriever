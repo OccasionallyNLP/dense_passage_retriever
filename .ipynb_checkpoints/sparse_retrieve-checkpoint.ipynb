{
 "cells": [
  {
   "cell_type": "code",
   "execution_count": 1,
   "id": "863f05cf-51e6-4eb5-a997-e16e9631e73c",
   "metadata": {},
   "outputs": [],
   "source": [
    "# hard negative 만들기\n",
    "from utils.utils import *\n",
    "from tqdm import tqdm\n",
    "from transformers import AutoTokenizer\n",
    "import argparse\n",
    "from retrieval.sparse_retrieval.model import BM25\n",
    "from sklearn.model_selection import train_test_split\n",
    "import json"
   ]
  },
  {
   "cell_type": "code",
   "execution_count": 2,
   "id": "e468a7bb-a61b-43c4-9c7b-1c3f4811f670",
   "metadata": {},
   "outputs": [
    {
     "data": {
      "text/plain": [
       "_StoreAction(option_strings=['--test_data_path'], dest='test_data_path', nargs=None, const=None, default='../data/KorQuAD_dataset/data_w_context/dev.jsonl', type=<class 'str'>, choices=None, help=None, metavar=None)"
      ]
     },
     "execution_count": 2,
     "metadata": {},
     "output_type": "execute_result"
    }
   ],
   "source": [
    "parser = argparse.ArgumentParser()\n",
    "# test name\n",
    "parser.add_argument('--contexts_path', type=str, default='../data/KorQuAD_dataset/data_w_context/korquad_contexts.jsonl')\n",
    "parser.add_argument('--test_data_path', type=str, default='../data/KorQuAD_dataset/data_w_context/dev.jsonl')"
   ]
  },
  {
   "cell_type": "code",
   "execution_count": 3,
   "id": "e5a1e23b-b860-4c80-9b6f-2c4c24d64a1d",
   "metadata": {},
   "outputs": [],
   "source": [
    "args,_ = parser.parse_known_args()"
   ]
  },
  {
   "cell_type": "code",
   "execution_count": 4,
   "id": "869e743e-196c-47bb-aced-27f3d898aebd",
   "metadata": {},
   "outputs": [],
   "source": [
    "# tokenizer\n",
    "tokenizer = AutoTokenizer.from_pretrained('klue/bert-base')"
   ]
  },
  {
   "cell_type": "code",
   "execution_count": 5,
   "id": "b084f94d-ecf8-4713-91e1-b1d4b3d02b53",
   "metadata": {},
   "outputs": [
    {
     "name": "stderr",
     "output_type": "stream",
     "text": [
      "10581it [00:00, 143822.18it/s]\n"
     ]
    }
   ],
   "source": [
    "contexts = load_jsonl(args.contexts_path)"
   ]
  },
  {
   "cell_type": "code",
   "execution_count": 6,
   "id": "891780fb-18fb-46d4-aaac-1c9eccd79187",
   "metadata": {},
   "outputs": [
    {
     "name": "stderr",
     "output_type": "stream",
     "text": [
      "Token indices sequence length is longer than the specified maximum sequence length for this model (752 > 512). Running this sequence through the model will result in indexing errors\n"
     ]
    }
   ],
   "source": [
    "bm25 = BM25(tokenizer)\n",
    "bm25.exec_embedding(contexts)"
   ]
  },
  {
   "cell_type": "code",
   "execution_count": 8,
   "id": "2e27d1cd-ce57-4f0b-b0a9-d0b06e5bb388",
   "metadata": {},
   "outputs": [
    {
     "name": "stderr",
     "output_type": "stream",
     "text": [
      "5774it [00:00, 108104.09it/s]\n"
     ]
    }
   ],
   "source": [
    "test_data = load_jsonl(args.test_data_path)"
   ]
  },
  {
   "cell_type": "markdown",
   "id": "576ed459-72eb-41f7-a966-2202e32e796e",
   "metadata": {},
   "source": [
    "# test_data score 기록"
   ]
  },
  {
   "cell_type": "code",
   "execution_count": 9,
   "id": "44b03546-76da-4405-bd2c-3bd2d3af9a20",
   "metadata": {},
   "outputs": [
    {
     "name": "stderr",
     "output_type": "stream",
     "text": [
      "100%|██████████████████████████████████████████████████████████████████████████████| 5774/5774 [05:41<00:00, 16.89it/s]\n"
     ]
    }
   ],
   "source": [
    "result = []\n",
    "for i in tqdm(test_data):\n",
    "    output = bm25.retrieve(i['question'],100)\n",
    "    output = [i[0] for i in output]\n",
    "    result.append(output)"
   ]
  },
  {
   "cell_type": "code",
   "execution_count": 11,
   "id": "de0d8a6a-1cfb-4a2a-9d03-ff662ef088a6",
   "metadata": {
    "collapsed": true,
    "jupyter": {
     "outputs_hidden": true
    },
    "tags": []
   },
   "outputs": [
    {
     "name": "stderr",
     "output_type": "stream",
     "text": [
      "5774it [00:00, 736039.61it/s]\n",
      "5774it [00:00, 1011059.63it/s]\n",
      "5774it [00:00, 1335055.75it/s]\n",
      "5774it [00:00, 637565.13it/s]\n",
      "5774it [00:00, 1155159.14it/s]\n",
      "5774it [00:00, 1150439.95it/s]\n",
      "5774it [00:00, 1151972.19it/s]\n",
      "5774it [00:00, ?it/s]\n",
      "5774it [00:00, 443161.90it/s]\n",
      "5774it [00:00, 1285724.74it/s]\n",
      "5774it [00:00, 960990.09it/s]\n",
      "5774it [00:00, 1352804.79it/s]\n",
      "5774it [00:00, 620383.52it/s]\n",
      "5774it [00:00, 962173.67it/s]\n",
      "5774it [00:00, 1023147.92it/s]\n",
      "5774it [00:00, 1114851.14it/s]\n",
      "5774it [00:00, ?it/s]\n",
      "5774it [00:00, 1037658.48it/s]\n",
      "5774it [00:00, ?it/s]\n",
      "5774it [00:00, 443738.41it/s]\n",
      "5774it [00:00, 1873146.52it/s]\n",
      "5774it [00:00, ?it/s]\n",
      "5774it [00:00, 822563.39it/s]\n",
      "5774it [00:00, 1583387.47it/s]\n",
      "5774it [00:00, 636576.37it/s]\n",
      "5774it [00:00, ?it/s]\n",
      "5774it [00:00, 424198.41it/s]\n",
      "5774it [00:00, 2480326.84it/s]\n",
      "5774it [00:00, ?it/s]\n",
      "5774it [00:00, 378056.34it/s]\n",
      "5774it [00:00, ?it/s]\n",
      "5774it [00:00, 495618.68it/s]\n",
      "5774it [00:00, 1155489.83it/s]\n",
      "5774it [00:00, 1440513.40it/s]\n",
      "5774it [00:00, 836427.14it/s]\n",
      "5774it [00:00, 11504945.98it/s]\n",
      "5774it [00:00, 528072.03it/s]\n",
      "5774it [00:00, 2197832.04it/s]\n",
      "5774it [00:00, ?it/s]\n",
      "5774it [00:00, 358991.29it/s]\n",
      "5774it [00:00, ?it/s]\n",
      "5774it [00:00, 466698.36it/s]\n",
      "5774it [00:00, 1556221.01it/s]\n",
      "5774it [00:00, ?it/s]\n",
      "5774it [00:00, 970969.10it/s]\n",
      "5774it [00:00, ?it/s]\n",
      "5774it [00:00, 391717.13it/s]\n",
      "5774it [00:00, ?it/s]\n",
      "5774it [00:00, 470168.54it/s]\n",
      "5774it [00:00, 2517454.40it/s]\n",
      "5774it [00:00, ?it/s]\n",
      "5774it [00:00, 352316.90it/s]\n",
      "5774it [00:00, ?it/s]\n",
      "5774it [00:00, 487379.98it/s]\n",
      "5774it [00:00, 1713208.21it/s]\n",
      "5774it [00:00, ?it/s]\n",
      "5774it [00:00, 1483577.02it/s]\n",
      "5774it [00:00, ?it/s]\n",
      "5774it [00:00, 391913.64it/s]\n",
      "5774it [00:00, 6091023.97it/s]\n",
      "5774it [00:00, 490350.31it/s]\n",
      "5774it [00:00, 1848554.41it/s]\n",
      "5774it [00:00, ?it/s]\n",
      "5774it [00:00, 964664.86it/s]\n",
      "5774it [00:00, 4950513.35it/s]\n",
      "5774it [00:00, 461777.32it/s]\n",
      "5774it [00:00, ?it/s]\n",
      "5774it [00:00, 421371.60it/s]\n",
      "5774it [00:00, 2481343.37it/s]\n",
      "5774it [00:00, 510001.08it/s]\n",
      "5774it [00:00, 1537157.18it/s]\n",
      "5774it [00:00, ?it/s]\n",
      "5774it [00:00, 939297.65it/s]\n",
      "5774it [00:00, ?it/s]\n",
      "5774it [00:00, 396676.79it/s]\n",
      "5774it [00:00, ?it/s]\n",
      "5774it [00:00, 440718.30it/s]\n",
      "5774it [00:00, 3499192.50it/s]\n",
      "5774it [00:00, 483025.08it/s]\n",
      "5774it [00:00, 1964463.93it/s]\n",
      "5774it [00:00, 536328.45it/s]\n",
      "5774it [00:00, 1216613.65it/s]\n",
      "5774it [00:00, 581434.54it/s]\n",
      "5774it [00:00, 1590980.90it/s]\n",
      "5774it [00:00, ?it/s]\n",
      "5774it [00:00, 1507964.59it/s]\n",
      "5774it [00:00, ?it/s]\n",
      "5774it [00:00, 960075.77it/s]\n",
      "5774it [00:00, 9788969.80it/s]\n",
      "5774it [00:00, 956284.75it/s]\n",
      "5774it [00:00, 2237633.86it/s]\n",
      "5774it [00:00, 479296.85it/s]\n",
      "5774it [00:00, 6798964.43it/s]\n",
      "5774it [00:00, 416594.90it/s]\n",
      "5774it [00:00, 13380061.49it/s]\n",
      "5774it [00:00, 436917.70it/s]\n",
      "5774it [00:00, 4195757.33it/s]\n",
      "5774it [00:00, 434308.51it/s]\n",
      "5774it [00:00, 2422760.23it/s]\n",
      "5774it [00:00, 467725.89it/s]\n"
     ]
    }
   ],
   "source": [
    "# hit@1, 5, 20, 100\n",
    "scores = []\n",
    "for k in range(1, 101):\n",
    "    score_k = []\n",
    "    for i,j in tqdm(zip(test_data, result)):\n",
    "        score_k.append(i['positive_ctxs_ids'][0] in j[:k])\n",
    "    scores.append(score_k)"
   ]
  },
  {
   "cell_type": "code",
   "execution_count": 12,
   "id": "c3325024-8f89-4e53-9c50-8a93918818db",
   "metadata": {},
   "outputs": [
    {
     "name": "stdout",
     "output_type": "stream",
     "text": [
      "0.85417388292345\n",
      "0.9243158988569449\n",
      "0.9461378593695878\n",
      "0.9547973675095255\n",
      "0.9615517838586768\n",
      "0.9658815379286456\n",
      "0.9695185313474195\n",
      "0.9722895739521995\n",
      "0.9745410460685833\n",
      "0.9760997575337721\n",
      "0.9771388985105646\n",
      "0.9783512296501559\n",
      "0.9790439903013509\n",
      "0.9799099411153447\n",
      "0.9802563214409421\n",
      "0.9809490820921372\n",
      "0.982507793557326\n",
      "0.9828541738829234\n",
      "0.9832005542085209\n",
      "0.9842396951853135\n",
      "0.9844128853481122\n",
      "0.9847592656737097\n",
      "0.9849324558365085\n",
      "0.9849324558365085\n",
      "0.9856252164877035\n",
      "0.9861447869760998\n",
      "0.9863179771388985\n",
      "0.986664357464496\n",
      "0.9870107377900935\n",
      "0.987357118115691\n",
      "0.9875303082784898\n",
      "0.9877034984412886\n",
      "0.9882230689296848\n",
      "0.9885694492552823\n",
      "0.9885694492552823\n",
      "0.988742639418081\n",
      "0.988742639418081\n",
      "0.9889158295808798\n",
      "0.9892622099064773\n",
      "0.9892622099064773\n",
      "0.9894354000692761\n",
      "0.9894354000692761\n",
      "0.9896085902320748\n",
      "0.9896085902320748\n",
      "0.9897817803948735\n",
      "0.9899549705576723\n",
      "0.9903013508832699\n",
      "0.9903013508832699\n",
      "0.9903013508832699\n",
      "0.9904745410460686\n",
      "0.9908209213716661\n",
      "0.9909941115344648\n",
      "0.9909941115344648\n",
      "0.9911673016972636\n",
      "0.9911673016972636\n",
      "0.9911673016972636\n",
      "0.9911673016972636\n",
      "0.9911673016972636\n",
      "0.9911673016972636\n",
      "0.9913404918600623\n",
      "0.991513682022861\n",
      "0.991513682022861\n",
      "0.9918600623484586\n",
      "0.9920332525112574\n",
      "0.9920332525112574\n",
      "0.9920332525112574\n",
      "0.9920332525112574\n",
      "0.9920332525112574\n",
      "0.9922064426740561\n",
      "0.9923796328368548\n",
      "0.9925528229996536\n",
      "0.9925528229996536\n",
      "0.9925528229996536\n",
      "0.9925528229996536\n",
      "0.9927260131624523\n",
      "0.9927260131624523\n",
      "0.9928992033252512\n",
      "0.9928992033252512\n",
      "0.9928992033252512\n",
      "0.9930723934880499\n",
      "0.9932455836508486\n",
      "0.9934187738136474\n",
      "0.9935919639764461\n",
      "0.9935919639764461\n",
      "0.9935919639764461\n",
      "0.9937651541392449\n",
      "0.9937651541392449\n",
      "0.9939383443020436\n",
      "0.9939383443020436\n",
      "0.9941115344648424\n",
      "0.9941115344648424\n",
      "0.9941115344648424\n",
      "0.9941115344648424\n",
      "0.9941115344648424\n",
      "0.9941115344648424\n",
      "0.9941115344648424\n",
      "0.9941115344648424\n",
      "0.9941115344648424\n",
      "0.9941115344648424\n",
      "0.9942847246276412\n"
     ]
    }
   ],
   "source": [
    "for i in scores:\n",
    "    print(sum(i)/len(i))"
   ]
  },
  {
   "cell_type": "markdown",
   "id": "83f31b1e-fefd-4db0-a346-8f0d59947d81",
   "metadata": {},
   "source": [
    "# hard negative attach"
   ]
  },
  {
   "cell_type": "code",
   "execution_count": 6,
   "id": "0d1afb69-454c-454d-ae19-73877f139c0f",
   "metadata": {},
   "outputs": [
    {
     "name": "stderr",
     "output_type": "stream",
     "text": [
      "51237it [00:00, 152080.37it/s]\n"
     ]
    }
   ],
   "source": [
    "train_data = load_jsonl('./data/train.jsonl')"
   ]
  },
  {
   "cell_type": "code",
   "execution_count": 7,
   "id": "6f45b4a5-cc87-4389-83ad-8d66537999e9",
   "metadata": {},
   "outputs": [
    {
     "name": "stderr",
     "output_type": "stream",
     "text": [
      "100%|█████████████████████████████████| 51237/51237 [141:23:15<00:00,  9.93s/it]\n"
     ]
    }
   ],
   "source": [
    "for i in tqdm(train_data):\n",
    "    pos,neg = bm25.retrieve_without(i['question'], i['answer'], 100, 1)\n",
    "    i['hard_negative_ctxs_ids'] = neg\n",
    "    i['retrieved_ctxs_ids'] = pos"
   ]
  },
  {
   "cell_type": "code",
   "execution_count": 28,
   "id": "bc332bfc-f0c2-40b9-9f0d-4f3be51ee10c",
   "metadata": {},
   "outputs": [],
   "source": [
    "train_data, val_data = train_test_split(train_data, test_size = 0.1, random_state = 42, shuffle = True)"
   ]
  },
  {
   "cell_type": "code",
   "execution_count": 21,
   "id": "003bc241-c107-4a8f-adad-5462e348dc6a",
   "metadata": {},
   "outputs": [],
   "source": [
    "wiki = json.load(open(args.data_path))"
   ]
  },
  {
   "cell_type": "code",
   "execution_count": 29,
   "id": "0c807320-54fa-47d3-ae15-b343d2464e85",
   "metadata": {
    "tags": []
   },
   "outputs": [
    {
     "name": "stderr",
     "output_type": "stream",
     "text": [
      "100%|█████████████████████████████████| 41501/41501 [00:00<00:00, 305810.26it/s]\n"
     ]
    }
   ],
   "source": [
    "for i in tqdm(train_data):\n",
    "    i['negative_ctxs_ids'] = i['hard_negative_ctxs_ids']\n",
    "    del i['hard_negative_ctxs_ids']\n",
    "    i['negative_ctxs'] = [wiki[j] for j in i['negative_ctxs_ids']]\n",
    "    i['sparse_retrieved_ctxs_ids'] = i['retrieved_ctxs_ids']\n",
    "    del i['retrieved_ctxs_ids']"
   ]
  },
  {
   "cell_type": "code",
   "execution_count": 30,
   "id": "020274d5-47b0-4d76-967a-7706578cffd5",
   "metadata": {},
   "outputs": [
    {
     "name": "stderr",
     "output_type": "stream",
     "text": [
      "100%|███████████████████████████████████| 4612/4612 [00:00<00:00, 194561.98it/s]\n"
     ]
    }
   ],
   "source": [
    "for i in tqdm(val_data):\n",
    "    i['negative_ctxs_ids'] = i['hard_negative_ctxs_ids']\n",
    "    del i['hard_negative_ctxs_ids']\n",
    "    i['negative_ctxs'] = [wiki[j] for j in i['negative_ctxs_ids']]\n",
    "    i['sparse_retrieved_ctxs_ids'] = i['retrieved_ctxs_ids']\n",
    "    del i['retrieved_ctxs_ids']"
   ]
  },
  {
   "cell_type": "code",
   "execution_count": 5,
   "id": "d3cf39c5-9bea-48e3-a240-6262fb5717d9",
   "metadata": {},
   "outputs": [
    {
     "name": "stderr",
     "output_type": "stream",
     "text": [
      "41501it [00:05, 7785.65it/s] \n",
      "4612it [00:00, 5766.54it/s] \n"
     ]
    }
   ],
   "source": [
    "train_data = load_jsonl('./data/train_data_attached.jsonl')\n",
    "val_data = load_jsonl('./data/val_data_attached.jsonl')"
   ]
  },
  {
   "cell_type": "code",
   "execution_count": 9,
   "id": "1116b8f0-f6c8-457c-b375-459bc27e3559",
   "metadata": {},
   "outputs": [
    {
     "name": "stderr",
     "output_type": "stream",
     "text": [
      "4909it [00:00, 71522.05it/s]\n"
     ]
    }
   ],
   "source": [
    "val_data = load_jsonl('./data/dev.jsonl')"
   ]
  },
  {
   "cell_type": "code",
   "execution_count": null,
   "id": "610f2b6c-997b-4288-8d78-cd8ef7ec98e0",
   "metadata": {},
   "outputs": [],
   "source": [
    "for i in train_data:\n",
    "    i['neagtive"
   ]
  },
  {
   "cell_type": "code",
   "execution_count": 34,
   "id": "f36f75ee-fda7-45d1-a551-cd35a412c254",
   "metadata": {},
   "outputs": [],
   "source": [
    "save_jsonl('./data',train_data, 'train_data_attached')\n",
    "save_jsonl('./data',val_data, 'val_data_attached')"
   ]
  },
  {
   "cell_type": "markdown",
   "id": "05edfd13-3469-44d1-b7fe-4a8d734bd508",
   "metadata": {},
   "source": [
    "# check_hard_negative"
   ]
  },
  {
   "cell_type": "code",
   "execution_count": 22,
   "id": "d55bae28-2c13-4f5e-9ab4-e0a673fa3364",
   "metadata": {},
   "outputs": [],
   "source": [
    "import json"
   ]
  },
  {
   "cell_type": "code",
   "execution_count": 24,
   "id": "2a248775-6f21-4a74-8071-339c5a9c31c9",
   "metadata": {},
   "outputs": [],
   "source": [
    "wiki = json.load(open(args.data_path))"
   ]
  },
  {
   "cell_type": "code",
   "execution_count": 25,
   "id": "239ce94e-5c94-4003-867a-cd205277c35d",
   "metadata": {},
   "outputs": [
    {
     "data": {
      "text/plain": [
       "{'title': '오우데나르데 전투',\n",
       " 'context': '군대는 오우데나르데 근처의 임시 다리가 붕괴되는 바람에 강을 건널 수가 없었고, 도시의 돌다리를 이용하여 강을 건너야 했기 때문에 한시간정도 늦어지게 되었다. 말버러 공작은 계획에 착수하여 외젠 공작의 기병대에게 돌격을 명했다. 이 돌격은 부르고뉴 공작의 사령부에 행해졌다. 프랑스군의 본진을 지키던 기병대는 메종 드 로이(Maison du Roi)부대였는데, 이들은 외젠 공작의 기병대에 대하여'}"
      ]
     },
     "execution_count": 25,
     "metadata": {},
     "output_type": "execute_result"
    }
   ],
   "source": [
    "wiki['오우데나르데 전투_19']"
   ]
  },
  {
   "cell_type": "code",
   "execution_count": 30,
   "id": "449d7fb5-d74e-44aa-88da-b011623e00e0",
   "metadata": {},
   "outputs": [
    {
     "name": "stderr",
     "output_type": "stream",
     "text": [
      "100%|█████████████████████████████████| 50724/50724 [00:00<00:00, 339804.40it/s]\n"
     ]
    }
   ],
   "source": [
    "check = []\n",
    "for i in tqdm(train_data):\n",
    "    assert i['answer'] not in wiki[i['hard_negative_ctxs_ids'][0]]['context']"
   ]
  }
 ],
 "metadata": {
  "kernelspec": {
   "display_name": "Python 3 (ipykernel)",
   "language": "python",
   "name": "python3"
  },
  "language_info": {
   "codemirror_mode": {
    "name": "ipython",
    "version": 3
   },
   "file_extension": ".py",
   "mimetype": "text/x-python",
   "name": "python",
   "nbconvert_exporter": "python",
   "pygments_lexer": "ipython3",
   "version": "3.9.7"
  }
 },
 "nbformat": 4,
 "nbformat_minor": 5
}
