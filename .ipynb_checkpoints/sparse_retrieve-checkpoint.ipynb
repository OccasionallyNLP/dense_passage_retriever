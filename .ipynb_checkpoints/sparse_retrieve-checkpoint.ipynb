{
 "cells": [
  {
   "cell_type": "code",
   "execution_count": 4,
   "id": "863f05cf-51e6-4eb5-a997-e16e9631e73c",
   "metadata": {},
   "outputs": [],
   "source": [
    "# hard negative 만들기\n",
    "from retrieval.sparse_retrieval.bm25_retrieval import BM25"
   ]
  },
  {
   "cell_type": "code",
   "execution_count": 18,
   "id": "b8608922-25ff-4535-bea3-0d135866ebac",
   "metadata": {},
   "outputs": [],
   "source": [
    "from utils.tools import *"
   ]
  },
  {
   "cell_type": "code",
   "execution_count": null,
   "id": "9abf8ddd-5384-4f94-88df-c3333da644ec",
   "metadata": {},
   "outputs": [],
   "source": []
  },
  {
   "cell_type": "code",
   "execution_count": 19,
   "id": "e468a7bb-a61b-43c4-9c7b-1c3f4811f670",
   "metadata": {},
   "outputs": [
    {
     "name": "stderr",
     "output_type": "stream",
     "text": [
      "tokenize:   0%|                                                                                                                   | 0/1346460 [01:13<?, ?it/s]\n"
     ]
    },
    {
     "data": {
      "text/plain": [
       "_StoreAction(option_strings=['--include_title'], dest='include_title', nargs=None, const=None, default=True, type=<function str2bool at 0x7f7b7c5dc940>, choices=None, help=None, metavar=None)"
      ]
     },
     "execution_count": 19,
     "metadata": {},
     "output_type": "execute_result"
    }
   ],
   "source": [
    "import argparse\n",
    "parser = argparse.ArgumentParser()\n",
    "# test name\n",
    "parser.add_argument('--data_path', type=str, default='./data/wiki.json')\n",
    "parser.add_argument('--include_title', type=str2bool, default=True)"
   ]
  },
  {
   "cell_type": "code",
   "execution_count": 20,
   "id": "e5a1e23b-b860-4c80-9b6f-2c4c24d64a1d",
   "metadata": {},
   "outputs": [],
   "source": [
    "args,_ = parser.parse_known_args()"
   ]
  },
  {
   "cell_type": "code",
   "execution_count": 9,
   "id": "068b52e4-10ea-4328-870c-3daaf719491d",
   "metadata": {},
   "outputs": [],
   "source": [
    "from transformers import AutoTokenizer"
   ]
  },
  {
   "cell_type": "code",
   "execution_count": 11,
   "id": "869e743e-196c-47bb-aced-27f3d898aebd",
   "metadata": {},
   "outputs": [],
   "source": [
    "tokenizer = AutoTokenizer.from_pretrained('../models/klue_bert_tokenizer')"
   ]
  },
  {
   "cell_type": "code",
   "execution_count": 13,
   "id": "e7c0dd55-855a-4011-a280-6990c7d41bcb",
   "metadata": {},
   "outputs": [],
   "source": [
    "from rank_bm25 import BM25Okapi"
   ]
  },
  {
   "cell_type": "code",
   "execution_count": null,
   "id": "c37fdb50-44af-44ac-99d6-414d6d309c01",
   "metadata": {},
   "outputs": [],
   "source": [
    "BM25Okapi()"
   ]
  },
  {
   "cell_type": "code",
   "execution_count": null,
   "id": "d83dfb42-1992-4429-a8f6-d0fe0908f46d",
   "metadata": {},
   "outputs": [],
   "source": []
  },
  {
   "cell_type": "code",
   "execution_count": 21,
   "id": "a7685ee9-2ef4-463c-88ab-d4be8397308c",
   "metadata": {},
   "outputs": [],
   "source": [
    "bm25 = BM25(args, tokenizer)"
   ]
  },
  {
   "cell_type": "code",
   "execution_count": null,
   "id": "891780fb-18fb-46d4-aaac-1c9eccd79187",
   "metadata": {},
   "outputs": [
    {
     "name": "stderr",
     "output_type": "stream",
     "text": [
      "tokenize:  11%|██████████▉                                                                                         | 146571/1346460 [00:35<04:59, 4000.59it/s]Token indices sequence length is longer than the specified maximum sequence length for this model (769 > 512). Running this sequence through the model will result in indexing errors\n",
      "tokenize:  73%|████████████████████████████████████████████████████████████████████████▌                           | 976951/1346460 [03:56<01:34, 3912.55it/s]"
     ]
    }
   ],
   "source": [
    "bm25.exec_embedding()\n"
   ]
  }
 ],
 "metadata": {
  "kernelspec": {
   "display_name": "Python 3 (ipykernel)",
   "language": "python",
   "name": "python3"
  },
  "language_info": {
   "codemirror_mode": {
    "name": "ipython",
    "version": 3
   },
   "file_extension": ".py",
   "mimetype": "text/x-python",
   "name": "python",
   "nbconvert_exporter": "python",
   "pygments_lexer": "ipython3",
   "version": "3.9.7"
  }
 },
 "nbformat": 4,
 "nbformat_minor": 5
}
