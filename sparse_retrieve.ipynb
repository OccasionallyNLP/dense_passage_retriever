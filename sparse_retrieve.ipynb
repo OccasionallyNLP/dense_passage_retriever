{
 "cells": [
  {
   "cell_type": "code",
   "execution_count": 14,
   "id": "863f05cf-51e6-4eb5-a997-e16e9631e73c",
   "metadata": {},
   "outputs": [],
   "source": [
    "# hard negative 만들기\n",
    "from utils.tools import *\n",
    "from utils.utils import load_jsonl\n",
    "from tqdm import tqdm\n",
    "from transformers import AutoTokenizer\n",
    "import argparse\n",
    "from retrieval.sparse_retrieval.bm25_retrieval import BM25"
   ]
  },
  {
   "cell_type": "code",
   "execution_count": 3,
   "id": "e468a7bb-a61b-43c4-9c7b-1c3f4811f670",
   "metadata": {},
   "outputs": [
    {
     "data": {
      "text/plain": [
       "_StoreAction(option_strings=['--include_title'], dest='include_title', nargs=None, const=None, default=True, type=<function str2bool at 0x7fc53847bf70>, choices=None, help=None, metavar=None)"
      ]
     },
     "execution_count": 3,
     "metadata": {},
     "output_type": "execute_result"
    }
   ],
   "source": [
    "parser = argparse.ArgumentParser()\n",
    "# test name\n",
    "parser.add_argument('--data_path', type=str, default='./data/wiki.json')\n",
    "parser.add_argument('--test_data_path', type=str, default='./data/train.jsonl')\n",
    "parser.add_argument('--include_title', type=str2bool, default=True)"
   ]
  },
  {
   "cell_type": "code",
   "execution_count": 4,
   "id": "e5a1e23b-b860-4c80-9b6f-2c4c24d64a1d",
   "metadata": {},
   "outputs": [],
   "source": [
    "args,_ = parser.parse_known_args()"
   ]
  },
  {
   "cell_type": "code",
   "execution_count": 6,
   "id": "869e743e-196c-47bb-aced-27f3d898aebd",
   "metadata": {},
   "outputs": [],
   "source": [
    "tokenizer = AutoTokenizer.from_pretrained('../models/klue_bert_tokenizer')"
   ]
  },
  {
   "cell_type": "code",
   "execution_count": 9,
   "id": "891780fb-18fb-46d4-aaac-1c9eccd79187",
   "metadata": {},
   "outputs": [
    {
     "name": "stderr",
     "output_type": "stream",
     "text": [
      "tokenize:  11%|██████████▉                                                                                         | 146563/1346460 [00:36<05:01, 3975.34it/s]Token indices sequence length is longer than the specified maximum sequence length for this model (769 > 512). Running this sequence through the model will result in indexing errors\n",
      "tokenize: 100%|███████████████████████████████████████████████████████████████████████████████████████████████████| 1346460/1346460 [05:24<00:00, 4144.25it/s]\n"
     ]
    },
    {
     "data": {
      "text/plain": [
       "<rank_bm25.BM25Okapi at 0x7fc560755f70>"
      ]
     },
     "execution_count": 9,
     "metadata": {},
     "output_type": "execute_result"
    }
   ],
   "source": [
    "bm25.exec_embedding()"
   ]
  },
  {
   "cell_type": "code",
   "execution_count": 11,
   "id": "ddb94934-cc64-4d4b-9695-5d90f8b2bc7e",
   "metadata": {},
   "outputs": [
    {
     "name": "stderr",
     "output_type": "stream",
     "text": [
      "51237it [00:00, 123977.26it/s]\n"
     ]
    }
   ],
   "source": [
    "test_data = load_jsonl('./data/train.jsonl')"
   ]
  },
  {
   "cell_type": "code",
   "execution_count": 16,
   "id": "2e27d1cd-ce57-4f0b-b0a9-d0b06e5bb388",
   "metadata": {},
   "outputs": [
    {
     "name": "stderr",
     "output_type": "stream",
     "text": [
      "4909it [00:00, 69261.22it/s]\n"
     ]
    }
   ],
   "source": [
    "test_data = load_jsonl('./data/dev.jsonl')"
   ]
  },
  {
   "cell_type": "code",
   "execution_count": 17,
   "id": "e296f863-6c7f-4f9b-945e-ce8b98f77472",
   "metadata": {},
   "outputs": [
    {
     "data": {
      "text/plain": [
       "{'question': '임종석이 여의도 농민 폭력 시위를 주도한 혐의로 지명수배 된 날은?',\n",
       " 'answer': '1989년 2월 15일',\n",
       " 'title': '임종석',\n",
       " 'postive_ctxs': ['하였다. 2019년 1월까지 대통령비서실장 업무를 수행했다. 퇴임으로부터 12일 후, 신설된 직위인 아랍에미리트 특임 외교특별보좌관에 위촉되었다. 전과. 1989년 2월 15일 여의도 농민 폭력 시위를 주도한 혐의(폭력행위등처벌에관한법률위반)으로 지명수배되었다. 1989년 3월 12일 서울지방검찰청 공안부는 임종석의 사전구속영장을 발부받았다. 같은 해 6월 30일 평양축전에 임수경을 대표로 파견하여 국가보안법위반 혐의가 추가되었다. 경찰은 12월 18일~20일 사이 서울'],\n",
       " 'positive_ctxs_ids': ['임종석_2']}"
      ]
     },
     "execution_count": 17,
     "metadata": {},
     "output_type": "execute_result"
    }
   ],
   "source": [
    "test_data[0]"
   ]
  },
  {
   "cell_type": "code",
   "execution_count": null,
   "id": "44b03546-76da-4405-bd2c-3bd2d3af9a20",
   "metadata": {},
   "outputs": [
    {
     "name": "stderr",
     "output_type": "stream",
     "text": [
      "  2%|█▉                                                                                                                  | 81/4909 [14:37<13:47:44, 10.29s/it]"
     ]
    }
   ],
   "source": [
    "result = []\n",
    "for i in tqdm(test_data):\n",
    "    output = bm25.retrieve(i['question'],100)\n",
    "    output = [i[0] for i in output]\n",
    "    result.append(output)"
   ]
  },
  {
   "cell_type": "code",
   "execution_count": null,
   "id": "9aa0ee97-793f-445f-a31a-b708555093b6",
   "metadata": {},
   "outputs": [],
   "source": [
    "for i in tqdm(test_data):\n",
    "    output = bm25.retrievewithout(i['question'],i['answer'],100,1)\n",
    "    i['hard_negative_ctxs_ids']=output"
   ]
  }
 ],
 "metadata": {
  "kernelspec": {
   "display_name": "Python 3 (ipykernel)",
   "language": "python",
   "name": "python3"
  },
  "language_info": {
   "codemirror_mode": {
    "name": "ipython",
    "version": 3
   },
   "file_extension": ".py",
   "mimetype": "text/x-python",
   "name": "python",
   "nbconvert_exporter": "python",
   "pygments_lexer": "ipython3",
   "version": "3.9.7"
  }
 },
 "nbformat": 4,
 "nbformat_minor": 5
}
