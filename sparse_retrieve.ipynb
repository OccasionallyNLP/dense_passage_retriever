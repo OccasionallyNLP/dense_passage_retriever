{
 "cells": [
  {
   "cell_type": "code",
   "execution_count": 1,
   "id": "863f05cf-51e6-4eb5-a997-e16e9631e73c",
   "metadata": {},
   "outputs": [],
   "source": [
    "# hard negative 만들기\n",
    "from utils.tools import *\n",
    "from utils.utils import load_jsonl\n",
    "from tqdm import tqdm\n",
    "from transformers import AutoTokenizer\n",
    "import argparse\n",
    "from retrieval.sparse_retrieval.bm25_retrieval import BM25"
   ]
  },
  {
   "cell_type": "code",
   "execution_count": 2,
   "id": "e468a7bb-a61b-43c4-9c7b-1c3f4811f670",
   "metadata": {},
   "outputs": [
    {
     "data": {
      "text/plain": [
       "_StoreAction(option_strings=['--include_title'], dest='include_title', nargs=None, const=None, default=True, type=<function str2bool at 0x7f89837c1a60>, choices=None, help=None, metavar=None)"
      ]
     },
     "execution_count": 2,
     "metadata": {},
     "output_type": "execute_result"
    }
   ],
   "source": [
    "parser = argparse.ArgumentParser()\n",
    "# test name\n",
    "parser.add_argument('--data_path', type=str, default='./data/wiki.json')\n",
    "parser.add_argument('--test_data_path', type=str, default='./data/train.jsonl')\n",
    "parser.add_argument('--include_title', type=str2bool, default=True)"
   ]
  },
  {
   "cell_type": "code",
   "execution_count": 3,
   "id": "e5a1e23b-b860-4c80-9b6f-2c4c24d64a1d",
   "metadata": {},
   "outputs": [],
   "source": [
    "args,_ = parser.parse_known_args()"
   ]
  },
  {
   "cell_type": "code",
   "execution_count": 4,
   "id": "869e743e-196c-47bb-aced-27f3d898aebd",
   "metadata": {},
   "outputs": [],
   "source": [
    "tokenizer = AutoTokenizer.from_pretrained('../models/klue_bert_tokenizer')"
   ]
  },
  {
   "cell_type": "code",
   "execution_count": 5,
   "id": "891780fb-18fb-46d4-aaac-1c9eccd79187",
   "metadata": {},
   "outputs": [
    {
     "name": "stderr",
     "output_type": "stream",
     "text": [
      "tokenize:  11%|██▍                   | 146572/1346460 [00:35<04:51, 4109.75it/s]Token indices sequence length is longer than the specified maximum sequence length for this model (769 > 512). Running this sequence through the model will result in indexing errors\n",
      "tokenize: 100%|█████████████████████| 1346460/1346460 [05:13<00:00, 4294.48it/s]\n"
     ]
    },
    {
     "data": {
      "text/plain": [
       "<rank_bm25.BM25Okapi at 0x7f89a3878430>"
      ]
     },
     "execution_count": 5,
     "metadata": {},
     "output_type": "execute_result"
    }
   ],
   "source": [
    "bm25 = BM25(args, tokenizer)\n",
    "bm25.exec_embedding()"
   ]
  },
  {
   "cell_type": "code",
   "execution_count": 6,
   "id": "ddb94934-cc64-4d4b-9695-5d90f8b2bc7e",
   "metadata": {},
   "outputs": [
    {
     "name": "stderr",
     "output_type": "stream",
     "text": [
      "51237it [00:00, 150930.57it/s]\n"
     ]
    }
   ],
   "source": [
    "test_data = load_jsonl('./data/train.jsonl')"
   ]
  },
  {
   "cell_type": "code",
   "execution_count": 7,
   "id": "2e27d1cd-ce57-4f0b-b0a9-d0b06e5bb388",
   "metadata": {},
   "outputs": [
    {
     "name": "stderr",
     "output_type": "stream",
     "text": [
      "4909it [00:00, 130616.35it/s]\n"
     ]
    }
   ],
   "source": [
    "test_data = load_jsonl('./data/dev.jsonl')"
   ]
  },
  {
   "cell_type": "code",
   "execution_count": null,
   "id": "44b03546-76da-4405-bd2c-3bd2d3af9a20",
   "metadata": {},
   "outputs": [
    {
     "name": "stderr",
     "output_type": "stream",
     "text": [
      " 10%|███▌                                | 482/4909 [1:22:18<9:58:50,  8.12s/it]"
     ]
    }
   ],
   "source": [
    "result = []\n",
    "for i in tqdm(test_data):\n",
    "    output = bm25.retrieve(i['question'],100)\n",
    "    output = [i[0] for i in output]\n",
    "    result.append(output)"
   ]
  },
  {
   "cell_type": "code",
   "execution_count": null,
   "id": "9aa0ee97-793f-445f-a31a-b708555093b6",
   "metadata": {},
   "outputs": [],
   "source": [
    "for i in tqdm(test_data):\n",
    "    output = bm25.retrievewithout(i['question'],i['answer'],100,1)\n",
    "    i['hard_negative_ctxs_ids']=output"
   ]
  }
 ],
 "metadata": {
  "kernelspec": {
   "display_name": "Python 3 (ipykernel)",
   "language": "python",
   "name": "python3"
  },
  "language_info": {
   "codemirror_mode": {
    "name": "ipython",
    "version": 3
   },
   "file_extension": ".py",
   "mimetype": "text/x-python",
   "name": "python",
   "nbconvert_exporter": "python",
   "pygments_lexer": "ipython3",
   "version": "3.9.7"
  }
 },
 "nbformat": 4,
 "nbformat_minor": 5
}
